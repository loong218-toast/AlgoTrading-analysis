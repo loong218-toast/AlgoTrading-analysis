{
 "cells": [
  {
   "cell_type": "code",
   "execution_count": 3,
   "id": "bcc335d3-b51b-4b05-9bd2-a6748f48c5aa",
   "metadata": {},
   "outputs": [
    {
     "name": "stdout",
     "output_type": "stream",
     "text": [
      "Connected, time : 17/03/2022 00:39:24\n"
     ]
    }
   ],
   "source": [
    "%run Algorithmic_Trading.ipynb"
   ]
  },
  {
   "cell_type": "code",
   "execution_count": null,
   "id": "c4ca4533-203a-4230-9483-194cd620d40b",
   "metadata": {},
   "outputs": [
    {
     "name": "stdout",
     "output_type": "stream",
     "text": [
      "2022-03-17 00:39:24.927018\n",
      "2022-03-17 00:39:30.448706\n",
      "2022-03-17 00:39:47.839795\n",
      "2022-03-17 01:51:52.365777\n"
     ]
    }
   ],
   "source": [
    "import time\n",
    "while True:\n",
    "    get_data()\n",
    "    time_series_forecast(test=all_pos, plot=True)"
   ]
  },
  {
   "cell_type": "code",
   "execution_count": null,
   "id": "98fa724b-66f1-4b8e-beb1-705139290ad7",
   "metadata": {},
   "outputs": [],
   "source": []
  }
 ],
 "metadata": {
  "kernelspec": {
   "display_name": "Python 3 (ipykernel)",
   "language": "python",
   "name": "python3"
  },
  "language_info": {
   "codemirror_mode": {
    "name": "ipython",
    "version": 3
   },
   "file_extension": ".py",
   "mimetype": "text/x-python",
   "name": "python",
   "nbconvert_exporter": "python",
   "pygments_lexer": "ipython3",
   "version": "3.10.2"
  }
 },
 "nbformat": 4,
 "nbformat_minor": 5
}
